{
  "nbformat": 4,
  "nbformat_minor": 0,
  "metadata": {
    "colab": {
      "name": "Problema 1_ITEM 1_Jessika_Morais_DifferentialEvolution.ipynb",
      "provenance": [],
      "collapsed_sections": [],
      "include_colab_link": true
    },
    "kernelspec": {
      "name": "python3",
      "display_name": "Python 3"
    }
  },
  "cells": [
    {
      "cell_type": "markdown",
      "metadata": {
        "id": "view-in-github",
        "colab_type": "text"
      },
      "source": [
        "<a href=\"https://colab.research.google.com/github/jessikamorais/Metodos_Numericos/blob/main/Problema_1_ITEM_1_Jessika_Morais_DifferentialEvolution.ipynb\" target=\"_parent\"><img src=\"https://colab.research.google.com/assets/colab-badge.svg\" alt=\"Open In Colab\"/></a>"
      ]
    },
    {
      "cell_type": "code",
      "metadata": {
        "id": "uuFmyzpOFvT9"
      },
      "source": [
        "################################################################################\n",
        "# Disciplina: Métodos Numéricos__ Aluna: Jéssika Nayara S. Morais              #\n",
        "# Resolução do Problema 1 -Cálculo do volume molar e do fator de compressibi-  #\n",
        "#-lidade com a equação de van der Waals                                        #\n",
        "# Resposta para o ITEM 1                                                       #\n",
        "################################################################################"
      ],
      "execution_count": 1,
      "outputs": []
    },
    {
      "cell_type": "code",
      "metadata": {
        "id": "tLgv4gDnCbX1"
      },
      "source": [
        "# Declarando as bibliotecas\n",
        "import numpy  as np\n",
        "from scipy.optimize import differential_evolution"
      ],
      "execution_count": 2,
      "outputs": []
    },
    {
      "cell_type": "code",
      "metadata": {
        "id": "AZJmGeqra0j2"
      },
      "source": [
        "#Declarando as variáveis\n",
        "\n",
        "P = 56\n",
        "T = 450\n",
        "R = 0.08206\n",
        "Tc = 405.5\n",
        "Pc = 111.3\n",
        "a = (27/64)*(((R**2)*(Tc**2))/Pc)\n",
        "b = (R*Tc)/(8*Pc)\n",
        "\n",
        "#Definindo a função para aplicar o Método \"Diferential Evolution\"\n",
        "\n",
        "def FUNCTION(x):\n",
        "  F =np.zeros(1)\n",
        "  F[0] = (P + (a/x[0]**2))*(x[0]-b)-(R*T)\n",
        "  Num = len(F)\n",
        "  List = []\n",
        "  \n",
        "  for i in F:\n",
        "    List.append(abs(i))\n",
        "  \n",
        "  Max = np.max(np.array(List))\n",
        "\n",
        "  return Max"
      ],
      "execution_count": 3,
      "outputs": []
    },
    {
      "cell_type": "code",
      "metadata": {
        "id": "XIC-e0jsJRVQ"
      },
      "source": [
        "bounds = [(-500,500)]\n",
        "Resultado = differential_evolution(FUNCTION, bounds,maxiter=2000, popsize= 50)"
      ],
      "execution_count": 4,
      "outputs": []
    },
    {
      "cell_type": "code",
      "metadata": {
        "id": "ATcsClvGrLFT"
      },
      "source": [
        "#Calculando o valordo coefciente de compressibilidade Z\n",
        "V1 = Resultado.x\n",
        "Z = (P*V1)/(R*T)"
      ],
      "execution_count": 5,
      "outputs": []
    },
    {
      "cell_type": "code",
      "metadata": {
        "id": "9vlafSt5LErN",
        "colab": {
          "base_uri": "https://localhost:8080/"
        },
        "outputId": "04a74bc0-ca91-4e05-cccf-4805f56e8e0b"
      },
      "source": [
        "# Verificando o resultado:\n",
        "\n",
        "Verifi = (P + (a/V1**2))*(V1-b)-(R*T)\n",
        "print('Aplicando o valor de V calculado na função',Verifi)"
      ],
      "execution_count": 6,
      "outputs": [
        {
          "output_type": "stream",
          "text": [
            "Aplicando o valor de V calculado na função [2.03215222e-12]\n"
          ],
          "name": "stdout"
        }
      ]
    },
    {
      "cell_type": "code",
      "metadata": {
        "id": "wY-a4SzhFQ-v",
        "colab": {
          "base_uri": "https://localhost:8080/"
        },
        "outputId": "5316b3ae-4c1e-4f39-ecef-65b9e639f690"
      },
      "source": [
        "# RESPOSTAS PARA O ITEM 1\n",
        "print('Respota do item 1')\n",
        "print('Volume molar [m³]=',V1)\n",
        "print('Coeficiente de Compressibilidade =',Z)"
      ],
      "execution_count": 7,
      "outputs": [
        {
          "output_type": "stream",
          "text": [
            "Respota do item 1\n",
            "Volume molar [m³]= [0.57489191]\n",
            "Coeficiente de Compressibilidade = [0.87182677]\n"
          ],
          "name": "stdout"
        }
      ]
    }
  ]
}