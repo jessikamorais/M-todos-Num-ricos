{
  "nbformat": 4,
  "nbformat_minor": 0,
  "metadata": {
    "colab": {
      "name": "Mod_01_Elimina_Gauss_version_04_abril_06_2021.ipynb",
      "provenance": [],
      "collapsed_sections": [],
      "include_colab_link": true
    },
    "kernelspec": {
      "name": "python3",
      "display_name": "Python 3"
    }
  },
  "cells": [
    {
      "cell_type": "markdown",
      "metadata": {
        "id": "view-in-github",
        "colab_type": "text"
      },
      "source": [
        "<a href=\"https://colab.research.google.com/github/jessikamorais/Metodos_Numericos/blob/main/Mod_01_Elimina_Gauss_version_04_abril_06_2021.ipynb\" target=\"_parent\"><img src=\"https://colab.research.google.com/assets/colab-badge.svg\" alt=\"Open In Colab\"/></a>"
      ]
    },
    {
      "cell_type": "code",
      "metadata": {
        "id": "RwtSWmlEPpmt"
      },
      "source": [
        "import numpy as np"
      ],
      "execution_count": 1,
      "outputs": []
    },
    {
      "cell_type": "code",
      "metadata": {
        "id": "BOJJ1XSQQ58d",
        "colab": {
          "base_uri": "https://localhost:8080/"
        },
        "outputId": "70ca0295-7dd8-41e5-c327-9dcfefe7afee"
      },
      "source": [
        "!git clone https://github.com/ucfilho/Metodos_Numericos_2021 #clonar do Github\n",
        "%cd Metodos_Numericos_2021"
      ],
      "execution_count": 2,
      "outputs": [
        {
          "output_type": "stream",
          "text": [
            "Cloning into 'Metodos_Numericos_2021'...\n",
            "remote: Enumerating objects: 154, done.\u001b[K\n",
            "remote: Counting objects: 100% (154/154), done.\u001b[K\n",
            "remote: Compressing objects: 100% (152/152), done.\u001b[K\n",
            "remote: Total 154 (delta 80), reused 0 (delta 0), pack-reused 0\u001b[K\n",
            "Receiving objects: 100% (154/154), 274.67 KiB | 2.86 MiB/s, done.\n",
            "Resolving deltas: 100% (80/80), done.\n",
            "/content/Metodos_Numericos_2021\n"
          ],
          "name": "stdout"
        }
      ]
    },
    {
      "cell_type": "code",
      "metadata": {
        "id": "357ghIDCt2cm"
      },
      "source": [
        "from GaussPivot import gauss"
      ],
      "execution_count": 3,
      "outputs": []
    },
    {
      "cell_type": "code",
      "metadata": {
        "id": "UE1soRMeOtjH",
        "colab": {
          "base_uri": "https://localhost:8080/"
        },
        "outputId": "e27d3b12-571b-47d2-c31e-53b54f1ac4ab"
      },
      "source": [
        "# create the matrix A\n",
        "A = np. array ([[0.9 ,0.3 ,0.1] ,[0.1 ,0.5 ,0.2] , [0.0 ,0.2 ,0.7]])\n",
        "\n",
        "# create the right-hand side\n",
        "feed = np. array ([30.0 ,25.0 ,10.0])\n",
        "\n",
        "x= gauss(A,feed)\n",
        "\n",
        "# print the solution\n",
        "print(x)\n",
        "\n",
        "# check the solution\n",
        "check_sol = np.dot(A,x)\n",
        "print(check_sol) "
      ],
      "execution_count": 4,
      "outputs": [
        {
          "output_type": "stream",
          "text": [
            "[17.884615384615383, 45.96153846153846, 1.1538461538461529]\n",
            "[30. 25. 10.]\n"
          ],
          "name": "stdout"
        }
      ]
    }
  ]
}