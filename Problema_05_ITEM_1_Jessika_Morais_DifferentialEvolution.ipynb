{
  "nbformat": 4,
  "nbformat_minor": 0,
  "metadata": {
    "colab": {
      "name": "Problema 05_ITEM 1_Jessika_Morais_DifferentialEvolution.ipynb",
      "provenance": [],
      "collapsed_sections": [],
      "include_colab_link": true
    },
    "kernelspec": {
      "name": "python3",
      "display_name": "Python 3"
    }
  },
  "cells": [
    {
      "cell_type": "markdown",
      "metadata": {
        "id": "view-in-github",
        "colab_type": "text"
      },
      "source": [
        "<a href=\"https://colab.research.google.com/github/jessikamorais/Metodos_Numericos/blob/main/Problema_05_ITEM_1_Jessika_Morais_DifferentialEvolution.ipynb\" target=\"_parent\"><img src=\"https://colab.research.google.com/assets/colab-badge.svg\" alt=\"Open In Colab\"/></a>"
      ]
    },
    {
      "cell_type": "code",
      "metadata": {
        "id": "3ATUWFgJQXH8"
      },
      "source": [
        "################################################################################\n",
        "# Disciplina: Métodos Numéricos__ Aluna: Jéssika Nayara S. Morais              #\n",
        "# Resolução do Problema 5 -Cálculo da Velocidade Terminal de Partículas Sólidas#\n",
        "# Resposta para o ITEM 1 - Velocidade com valor de 0.01578176 m/s              #\n",
        "# O valor está oscilando a cada iteração, não consegui encontrar a causa       #\n",
        "################################################################################"
      ],
      "execution_count": 29,
      "outputs": []
    },
    {
      "cell_type": "code",
      "metadata": {
        "id": "tLgv4gDnCbX1"
      },
      "source": [
        "import numpy  as np\n",
        "from scipy.optimize import differential_evolution"
      ],
      "execution_count": 30,
      "outputs": []
    },
    {
      "cell_type": "code",
      "metadata": {
        "id": "AZJmGeqra0j2"
      },
      "source": [
        "# Declaração das variáveis (Código para o item 1):\n",
        "rop = 1800\n",
        "ro = 994.6\n",
        "Dp = 0.000208\n",
        "mi = 0.0008931\n",
        "g = 9.80665\n",
        "\n",
        "# Condições para o cálculo de coeficiente de arraste (Cd) em função de Reynolds (Re)\n",
        "\n",
        "def obter_cd(Re):\n",
        "  if Re < 0.1:\n",
        "    return 24/Re\n",
        "  elif (Re >= 0.1 and Re <= 1000):\n",
        "    return (24/Re)*(1+ (0.14*(Re**0.7)))\n",
        "  elif (Re > 1000 and Re <= 350000):\n",
        "    return 0.44\n",
        "  elif (Re > 350000):\n",
        "    return (0.19 - 80000)/Re\n",
        "\n",
        "# Declaração das funções para o cálculo da velocidade terminal (x[0]) e\n",
        "# número de Reynolds (x[1])\n",
        "def FUNCTION(x):\n",
        "  Cd = obter_cd(x[1])\n",
        "  F =np.zeros(2)\n",
        "  F[0] = (((4*g*(rop-ro)*Dp))/(3*Cd*ro)) - (x[0]**2)\n",
        "  F[1] = ((Dp*x[0]*ro)/mi) -  x[1]\n",
        "   \n",
        "  Num = len(F)\n",
        "  List = []\n",
        "  \n",
        "  for i in F:\n",
        "    List.append(abs(i))\n",
        "  \n",
        "  Max = np.max(np.array(List))\n",
        "\n",
        "  return Max\n"
      ],
      "execution_count": 31,
      "outputs": []
    },
    {
      "cell_type": "code",
      "metadata": {
        "id": "XIC-e0jsJRVQ"
      },
      "source": [
        "# A resposta foi obtida  utilizando o método \"Differential Evolution\":\n",
        "bounds = [(-1,100), (-1,350000)]\n",
        "Resultado = differential_evolution(FUNCTION, bounds,maxiter=100, popsize= 1000)"
      ],
      "execution_count": 32,
      "outputs": []
    },
    {
      "cell_type": "code",
      "metadata": {
        "id": "9vlafSt5LErN",
        "colab": {
          "base_uri": "https://localhost:8080/"
        },
        "outputId": "dbbf7ec7-f23e-4c71-f381-8e023b2f6b18"
      },
      "source": [
        "print('Verificando o zero da função para o item 1 = ',Resultado.fun)"
      ],
      "execution_count": 33,
      "outputs": [
        {
          "output_type": "stream",
          "text": [
            "Verificando o zero da função para o item 1 =  1.3066880910628242e-11\n"
          ],
          "name": "stdout"
        }
      ]
    },
    {
      "cell_type": "code",
      "metadata": {
        "colab": {
          "base_uri": "https://localhost:8080/"
        },
        "id": "-QU_kPNWVPYU",
        "outputId": "1ea2147d-e6b0-4064-d640-59697f853e72"
      },
      "source": [
        "# Reposta - Item 1:\n",
        "\n",
        "print('Valor da velocidade terminal [m/s] e de Reynolds [Re] = ' , Resultado.x)\n"
      ],
      "execution_count": 34,
      "outputs": [
        {
          "output_type": "stream",
          "text": [
            "Valor da velocidade terminal [m/s] e de Reynolds [Re] =  [0.01578162 3.65563844]\n"
          ],
          "name": "stdout"
        }
      ]
    }
  ]
}