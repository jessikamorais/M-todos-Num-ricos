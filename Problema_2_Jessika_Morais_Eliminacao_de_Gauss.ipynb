{
  "nbformat": 4,
  "nbformat_minor": 0,
  "metadata": {
    "colab": {
      "name": "Problema 2_Jessika_Morais_Eliminacao_de_Gauss.ipynb",
      "provenance": [],
      "collapsed_sections": [],
      "include_colab_link": true
    },
    "kernelspec": {
      "name": "python3",
      "display_name": "Python 3"
    }
  },
  "cells": [
    {
      "cell_type": "markdown",
      "metadata": {
        "id": "view-in-github",
        "colab_type": "text"
      },
      "source": [
        "<a href=\"https://colab.research.google.com/github/jessikamorais/Metodos_Numericos/blob/main/Problema_2_Jessika_Morais_Eliminacao_de_Gauss.ipynb\" target=\"_parent\"><img src=\"https://colab.research.google.com/assets/colab-badge.svg\" alt=\"Open In Colab\"/></a>"
      ]
    },
    {
      "cell_type": "code",
      "metadata": {
        "id": "WG0Gi0HUHb9d"
      },
      "source": [
        "################################################################################\n",
        "# Disciplina: Métodos Numéricos__ Aluna: Jéssika Nayara S. Morais              #\n",
        "# Resolução do Problema 2 - Baçanço de massa em colunas de destilação          #                                                     #\n",
        "################################################################################"
      ],
      "execution_count": 83,
      "outputs": []
    },
    {
      "cell_type": "code",
      "metadata": {
        "id": "RwtSWmlEPpmt"
      },
      "source": [
        "import numpy as np\n",
        "import pandas as pd"
      ],
      "execution_count": 84,
      "outputs": []
    },
    {
      "cell_type": "code",
      "metadata": {
        "id": "BOJJ1XSQQ58d",
        "colab": {
          "base_uri": "https://localhost:8080/"
        },
        "outputId": "886c42c3-5749-4fed-da5a-f7b2628f1095"
      },
      "source": [
        "!git clone https://github.com/jessikamorais/Metodos_Numericos #clonar do Github\n",
        "%cd Metodos_Numericos"
      ],
      "execution_count": 85,
      "outputs": [
        {
          "output_type": "stream",
          "text": [
            "Cloning into 'Metodos_Numericos'...\n",
            "remote: Enumerating objects: 47, done.\u001b[K\n",
            "remote: Counting objects: 100% (47/47), done.\u001b[K\n",
            "remote: Compressing objects: 100% (41/41), done.\u001b[K\n",
            "remote: Total 47 (delta 15), reused 0 (delta 0), pack-reused 0\u001b[K\n",
            "Unpacking objects: 100% (47/47), done.\n",
            "/content/Metodos_Numericos/Metodos_Numericos/Metodos_Numericos/Metodos_Numericos/Metodos_Numericos/Metodos_Numericos/Metodos_Numericos/Metodos_Numericos/Metodos_Numericos/Metodos_Numericos\n"
          ],
          "name": "stdout"
        }
      ]
    },
    {
      "cell_type": "code",
      "metadata": {
        "id": "357ghIDCt2cm"
      },
      "source": [
        "# O Método de Eliminação de Gauss está sendo utilizado\n",
        "from Elimina_Gauss import LU\n",
        "from Elimina_Gauss import BS"
      ],
      "execution_count": 86,
      "outputs": []
    },
    {
      "cell_type": "code",
      "metadata": {
        "id": "UE1soRMeOtjH",
        "colab": {
          "base_uri": "https://localhost:8080/"
        },
        "outputId": "e83a5c02-8b53-4b21-9f1f-3b6d572c37c9"
      },
      "source": [
        "# Criando a matriz A, que representa as frações de material\n",
        "A = np. array ([[0.07, 0.18, 0.15, 0.24], [0.04, 0.24, 0.10 ,0.65], [0.54, 0.42, 0.54, 0.10], [0.35, 0.16, 0.21, 0.01]])\n",
        "\n",
        "# Criando o vetor b, que representa o fluxo molar para cada um dos componentes na entrada da primeira coluna de destilação:\n",
        "feed = np. array ([10.5, 17.5, 28.0, 14.0])\n",
        "\n",
        "M,Info= LU(A,feed)\n",
        "x,Info =BS(M)"
      ],
      "execution_count": 87,
      "outputs": [
        {
          "output_type": "stream",
          "text": [
            "[26.25 17.5   8.75 17.5 ]\n"
          ],
          "name": "stdout"
        }
      ]
    },
    {
      "cell_type": "code",
      "metadata": {
        "colab": {
          "base_uri": "https://localhost:8080/"
        },
        "id": "0mJPM8FPNE9s",
        "outputId": "314cbfa4-6e2f-4eda-dcef-71b8a55f657d"
      },
      "source": [
        "# Verificando a solução:\n",
        "verificar = np.dot(A,x)\n",
        "print('Os valores para os fluxos molares de entrada estão corretos:', verificar) "
      ],
      "execution_count": 88,
      "outputs": [
        {
          "output_type": "stream",
          "text": [
            "Os valores para os fluxos molares de entrada estão corretos: [10.5 17.5 28.  14. ]\n"
          ],
          "name": "stdout"
        }
      ]
    },
    {
      "cell_type": "code",
      "metadata": {
        "colab": {
          "base_uri": "https://localhost:8080/"
        },
        "id": "FQZFnAXvNExr",
        "outputId": "04c9879b-636b-4149-813c-fa1695b06550"
      },
      "source": [
        "# Resposta: \n",
        "Nomes = ['D1 = ', 'B1 = ', 'D2 = ', 'B2 = ']\n",
        "Num = 4\n",
        "\n",
        "print ('Os valores para os fluxos molares são (Item 1):')\n",
        "for k in range(Num):\n",
        "    print ('fluxo molar', Nomes[k], x[k])\n",
        "\n",
        "# Cálculo para o fluxo molar D e B:\n",
        "D = x[0] + x[1]\n",
        "B = x[2] + x[3]\n",
        "print ('_______')\n",
        "print ('Os valores para os fluxos molares são (Item 2):')\n",
        "print ('fluxo molar D', D)\n",
        "print ('fluxo molar B', B)\n"
      ],
      "execution_count": 89,
      "outputs": [
        {
          "output_type": "stream",
          "text": [
            "Os valores para os fluxos molares são (Item 1):\n",
            "fluxo molar D1 =  26.24999999999997\n",
            "fluxo molar B1 =  17.499999999999783\n",
            "fluxo molar D2 =  8.750000000000194\n",
            "fluxo molar B2 =  17.50000000000005\n",
            "_______\n",
            "Os valores para os fluxos molares são (Item 2):\n",
            "fluxo molar D 43.74999999999976\n",
            "fluxo molar B 26.25000000000024\n"
          ],
          "name": "stdout"
        }
      ]
    }
  ]
}