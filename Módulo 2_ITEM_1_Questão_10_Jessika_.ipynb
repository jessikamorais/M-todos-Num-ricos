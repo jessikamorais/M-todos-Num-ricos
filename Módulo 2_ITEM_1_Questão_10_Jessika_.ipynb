{
  "nbformat": 4,
  "nbformat_minor": 0,
  "metadata": {
    "colab": {
      "name": "ITEM_1_ Jessika_Questão 10.ipynb",
      "provenance": [],
      "collapsed_sections": [],
      "include_colab_link": true
    },
    "kernelspec": {
      "name": "python3",
      "display_name": "Python 3"
    }
  },
  "cells": [
    {
      "cell_type": "markdown",
      "metadata": {
        "id": "view-in-github",
        "colab_type": "text"
      },
      "source": [
        "<a href=\"https://colab.research.google.com/github/jessikamorais/Metodos_Numericos/blob/main/M%C3%B3dulo%202_ITEM_1_Quest%C3%A3o_10_Jessika_.ipynb\" target=\"_parent\"><img src=\"https://colab.research.google.com/assets/colab-badge.svg\" alt=\"Open In Colab\"/></a>"
      ]
    },
    {
      "cell_type": "markdown",
      "metadata": {
        "id": "JXtkarR0rUrX"
      },
      "source": [
        "**RESOLUÇÃO DO ITEM 1.**"
      ]
    },
    {
      "cell_type": "markdown",
      "metadata": {
        "id": "_toqeKXb4wnH"
      },
      "source": [
        "**Resolução do exercício 10_Artigo**: \"*A Collection of 10 Numerical Problems in Chemical Engineering Solved by Various mathematical Software Packages*\".\n",
        "\n",
        "O problema consiste em um tanque agitado com aquecimento que opera de forma contínua e possui um contralador PI.\n",
        "\n",
        "As equações para modelagem do sistema e controle são apresentadas a seguir:\n",
        "\n",
        "____\n",
        "\n",
        "$\\frac{dT}{dt}=\\frac{WC_p(T_i-T) + q}{\\rho VC_{p}}$ ___ Equação A.40  \n",
        "_____\n",
        "\n",
        "$T_o(t) = t(T-\\tau_d)$ ___ Equação A.41\n",
        "\n",
        "____\n",
        "\n",
        "$\\frac{dT_o}{dt} = [T - T_o - (\\frac{\\tau _d}{2})(\\frac{dT}{dt})] \\frac{2}{\\tau _d}$ ___Equação A.42\n",
        "____\n",
        "\n",
        "$\\frac{dT_m}{dt}=\\frac{T_o-T_m}{\\tau_m}$ ___ Equação A.43\n",
        "\n",
        "____\n",
        "\n",
        "$q_{s}=WC_p(T_r - Tis)$ ___ Equação A.45\n",
        "\n",
        "____\n",
        "\n",
        "$\\frac{d}{dT}(errsum)= T_r - T_m $ ___ Equação A.46\n",
        "\n",
        "____\n",
        "\n",
        "$q = Q_s + K_c(T_r - T-m) + \\frac{K_c}{\\tau _I}(errsum)$ ___ Equação A.47\n",
        "\n",
        "____\n",
        "\n",
        "**Item 1**. No primeiro item do exercício é pedido a resolução do problema sem o controle PI ($K_c=0 $) e a modificação da temperatura da corrente de entrada no tanque ($T_i$) modificada para 40°C decorridos 10 minutos do processo.\n",
        "Requisita-se também a verificação da aproximação de Padé (Equação A.42) para o cálculo da tempetura $T_o$.\n",
        "\n",
        "\n",
        "\n"
      ]
    },
    {
      "cell_type": "markdown",
      "metadata": {
        "id": "5pDzfZR_ro66"
      },
      "source": [
        "***Resposta***\n",
        "Na roslução do exercício, primeiramente foram resolvidas utilizando o Método de Runge Kutta de 4ª ordem as equações diferenciais (Equações A.40, A.43 e A.46), com a aproximação de Padé (Equação A.43) para o cálculo de $T_o$ que também é uma equação diferencial.   \n",
        "Em um segundo momento, foram resolvidas as mesmas equações diferenciais (Equações A.40, A.43 e A.46), porém, considerando a Equação A.41 para calcular o valor de $T_o$."
      ]
    },
    {
      "cell_type": "code",
      "metadata": {
        "id": "1FqdWwVtCeSu"
      },
      "source": [
        "# Importando as bibliotecas necessárias:\n",
        "import numpy as np\n",
        "import matplotlib.pyplot as plt\n",
        "import pandas as pd\n",
        "from scipy.integrate import odeint\n",
        "from pylab import *"
      ],
      "execution_count": 1,
      "outputs": []
    },
    {
      "cell_type": "code",
      "metadata": {
        "id": "jAaQ9UiAJGUS",
        "colab": {
          "base_uri": "https://localhost:8080/"
        },
        "outputId": "7996161b-c34b-41e0-d6c7-a3b71972114f"
      },
      "source": [
        "#Importando a pasta do github que será utilizada:\n",
        "!git clone https://github.com/jessikamorais/Metodos_Numericos #clonar do Github\n",
        "%cd Metodos_Numericos"
      ],
      "execution_count": 2,
      "outputs": [
        {
          "output_type": "stream",
          "text": [
            "fatal: destination path 'Metodos_Numericos' already exists and is not an empty directory.\n",
            "/content/Metodos_Numericos\n"
          ],
          "name": "stdout"
        }
      ]
    },
    {
      "cell_type": "code",
      "metadata": {
        "id": "6ln1rA4oCXkI"
      },
      "source": [
        "#Definindo as variáveis necessárias:\n",
        "\n",
        "termo1 = 4000.0 #ro*V*Cp [kJ/°C]\n",
        "Tis = 60 #Constante de tempo integral [°C]\n",
        "TauD = 1 #Tempo morto, tempo que o sistema demora para atingir a T de Set point[min]\n",
        "Kc = 40 #Ganho proporcional [kJ/min °C] #Condição para o Item 1\n",
        "termo2 = 500 # W*Cp [kJ/min °C] \n",
        "Tr = 80 #[°C] #Temperatura do SetPoint\n",
        "TauM = 5 #[min] #Constante de tempo do termopar\n",
        "TauI = 2 #[min]\n",
        "t_plot = []\n",
        "q_plot = []\n",
        "qlim_plot = []\n",
        "T_plot = []\n",
        "ToPade_plot = []\n",
        "Tm_plot = []\n",
        "ToReal_plot = []\n",
        "TReal_plot = []\n",
        "TmReal_plot = []\n",
        "t_plot2 = []\n",
        "\n",
        "#Tm = #Temperatura lida no termopar [°C]\n",
        "#To = #Temperatura de saída do tanque ou temperatura que entra no termopar\n",
        "#Ti = #Temperatura de entrada\n",
        "#Tis = #Temperatura de projeto de estado estacionário\n",
        "\n",
        "#Condição inicial do sistema (t= 0 min):\n",
        "T0 = Tr\n",
        "To0Pade = Tr\n",
        "Tm0 = Tr\n",
        "derrsum0 = 0.0\n",
        "Ti = 60.0\n",
        "T0Real = Tr\n",
        "ToReal = Tr\n",
        "Tm0Real = Tr\n",
        "derrsum0Real = 0.0"
      ],
      "execution_count": 3,
      "outputs": []
    },
    {
      "cell_type": "code",
      "metadata": {
        "id": "2wjhmT9n22iq"
      },
      "source": [
        ""
      ],
      "execution_count": null,
      "outputs": []
    },
    {
      "cell_type": "markdown",
      "metadata": {
        "id": "SK_bdSHMtAyF"
      },
      "source": [
        "**Etapa 1_ Resolvendo o sistema utilizando a aproximação de Padé:**"
      ]
    },
    {
      "cell_type": "code",
      "metadata": {
        "id": "c0mRUM9JJaY5"
      },
      "source": [
        "def model(Resp, t):\n",
        "\n",
        "# Definindo o valor da temperatura de entrada no tanque (Ti) com relação ao tempo:\n",
        "  if t < 10.0:\n",
        "    Ti = 60.0\n",
        "  elif t >= 10.0:\n",
        "    Ti = 40.0\n",
        "  \n",
        "  # Definindo as equações utilizadas:\n",
        "  T, ToPade, Tm, derrsum = Resp[0], Resp[1], Resp[2], Resp[3]\n",
        "  T, ToPade, Tm, derrsum = Resp\n",
        "  qs = termo2*(Tr-Ti) #Calor necessário para atingir o Set Point\n",
        "  q = qs + Kc*(Tr-Tm) + (Kc/TauI)*derrsum #Calor que entra no tanque\n",
        "  \n",
        "  # Definindo as Equações Diferenciais utilizadas:\n",
        "  dT  = (termo2/(Ti-T)+q)/(termo1)\n",
        "  dToPade = ((T - ToPade) - (TauD/2)*(dT))/(2/TauD) #Calculo para o efeito do tempo morto (aproximação de Padé)\n",
        "  dTm = ((ToPade - Tm)/TauM) #Modelagem do termopar\n",
        "  derrsum = (Tr - Tm) #Nova variável para calcular a integral de q\n",
        "\n",
        "  #Capturando os valores para a construção de gráficos:\n",
        "  t_plot.append(t)\n",
        "  T_plot.append(T)\n",
        "  ToPade_plot.append(ToPade)\n",
        "  Tm_plot.append(Tm)\n",
        " \n",
        "  return [dT, dToPade, dTm, derrsum]"
      ],
      "execution_count": 4,
      "outputs": []
    },
    {
      "cell_type": "code",
      "metadata": {
        "id": "3rHlOmLfF27n"
      },
      "source": [
        "#Importando a função de Runge Kutta de ordem 4:\n",
        "from rk4_sys import rk4"
      ],
      "execution_count": 5,
      "outputs": []
    },
    {
      "cell_type": "code",
      "metadata": {
        "id": "tvYW-I5Hdmll"
      },
      "source": [
        "# Resolvendo pelo Método de Runge Kutta de ordem 4:\n",
        "\n",
        "t0 = 0.0\n",
        "x0 = [T0, To0Pade, Tm0, derrsum0] \n",
        "tf = 120.0\n",
        "\n",
        "t, x = rk4( model, t0, tf,x0)\n",
        "\n"
      ],
      "execution_count": 6,
      "outputs": []
    },
    {
      "cell_type": "markdown",
      "metadata": {
        "id": "GvklJT5DtLXJ"
      },
      "source": [
        "**Etapa 2_Resolvendo o sistema desconsiderando a aproximação de Padé:**"
      ]
    },
    {
      "cell_type": "code",
      "metadata": {
        "id": "xLRIYrbpR2a8"
      },
      "source": [
        "def modelReal(RespReal, t):\n",
        "\n",
        "# Definindo o valor da temperatura de entrada no tanque (Ti) com relação ao tempo:\n",
        "  if t < 10.0:\n",
        "    Ti = 60.0\n",
        "  elif t >= 10.0:\n",
        "    Ti = 40.0\n",
        "  \n",
        "  # Definindo as equações utilizadas:\n",
        "  TReal, TmReal, derrsumReal= RespReal[0], RespReal[1], RespReal[2]\n",
        "  ToReal = TReal*(t - TauD) #Expressão para o tempo morto\n",
        "  qs = termo2*(Tr-Ti) #Calor necessário para atingir o Set Point\n",
        "  q = qs + Kc*(Tr-TmReal) + (Kc/TauI)*derrsumReal #Calor que entra no tanque\n",
        "  \n",
        "  # Definindo as Equações Diferenciais utilizadas:\n",
        "  dTReal  = (termo2/(Ti-TReal)+q)/(termo1)\n",
        "  dTmReal = ((ToReal - TmReal)/TauM) #Modelagem do termopar\n",
        "  derrsumReal = (Tr - TmReal) #Nova variável para calcular a integral de q\n",
        "\n",
        "\n",
        "  #Capturando os valores para a construção de gráficos:\n",
        "  t_plot2.append(t)\n",
        "  TReal_plot.append(TReal)\n",
        "  TmReal_plot.append(TmReal)\n",
        "  ToReal_plot.append(ToReal)\n",
        "\n",
        "  return [dTReal, dTmReal, derrsumReal]"
      ],
      "execution_count": 7,
      "outputs": []
    },
    {
      "cell_type": "code",
      "metadata": {
        "id": "36Yw2uSGScVA"
      },
      "source": [
        "# Resolvendo pelo Método de Runge Kutta de ordem 4:\n",
        "\n",
        "t0 = 0.0\n",
        "x0 = [T0Real, Tm0Real, derrsum0Real] \n",
        "tf = 120.0\n",
        "\n",
        "t, x = rk4( modelReal, t0, tf,x0)\n",
        "\n"
      ],
      "execution_count": 8,
      "outputs": []
    },
    {
      "cell_type": "markdown",
      "metadata": {
        "id": "uV0yoLSttX42"
      },
      "source": [
        "**Plotando os gráficos das temperaturas $T$, $To$ e $T_m$ em função do tempo considerando a aproximação de Padé.**"
      ]
    },
    {
      "cell_type": "code",
      "metadata": {
        "colab": {
          "base_uri": "https://localhost:8080/",
          "height": 265
        },
        "id": "abNlNE2qt-i_",
        "outputId": "831bb4c7-8b90-4c55-8f33-12afbd65d886"
      },
      "source": [
        "# Plotando o gráfico de temperaturas (T, ToReal, Tm) com relação ao tempo:\n",
        "# Os gráficos são plotados consideração a aproximação de Padé para To:\n",
        "\n",
        "figure()\n",
        "plot(t_plot, T_plot,'-r',t_plot, ToPade_plot,'-b',t_plot, Tm_plot,'-y')\n",
        "grid()"
      ],
      "execution_count": 9,
      "outputs": [
        {
          "output_type": "display_data",
          "data": {
            "image/png": "[encoded data removed]",
            "text/plain": [
              "<Figure size 432x288 with 1 Axes>"
            ]
          },
          "metadata": {
            "tags": [],
            "needs_background": "light"
          }
        }
      ]
    },
    {
      "cell_type": "markdown",
      "metadata": {
        "id": "UCqfATi4uNfN"
      },
      "source": [
        "**Plotando os gráficos das temperaturas  T ,  To  e  Tm  em função do tempo não considerando a aproximação de Padé.**"
      ]
    },
    {
      "cell_type": "code",
      "metadata": {
        "colab": {
          "base_uri": "https://localhost:8080/",
          "height": 276
        },
        "id": "vXqaYAh1fdDN",
        "outputId": "578cb37a-2ee1-4b72-e4d8-b84dced6f4ff"
      },
      "source": [
        "# Plotando o gráfico de temperaturas (T, ToReal, Tm) com relação ao tempo:\n",
        "# Os gráficos são plotados consideração a aproximação de Padé para To:\n",
        "\n",
        "figure()\n",
        "plot(t_plot2, TReal_plot,'-r',t_plot2, ToReal_plot,'-b',t_plot2, TmReal_plot,'-y')\n",
        "grid()"
      ],
      "execution_count": 10,
      "outputs": [
        {
          "output_type": "display_data",
          "data": {
            "image/png": "[encoded data removed]",
            "text/plain": [
              "<Figure size 432x288 with 1 Axes>"
            ]
          },
          "metadata": {
            "tags": [],
            "needs_background": "light"
          }
        }
      ]
    },
    {
      "cell_type": "markdown",
      "metadata": {
        "id": "Vs86DOgUuVPf"
      },
      "source": [
        "**Plotando o gráfico de comparação entre $T_o$ calculado pela aproxição de Padé ($T_oPade$) e $T_o$ calculado sem a aproximação ($T_oReal$).**"
      ]
    },
    {
      "cell_type": "code",
      "metadata": {
        "id": "6JtT_okhD3t8",
        "colab": {
          "base_uri": "https://localhost:8080/",
          "height": 290
        },
        "outputId": "58ffde43-779a-4daa-822d-93f534c8f83b"
      },
      "source": [
        "# Plotando o gráfico de comparação entre To calculado pela aproximação de Padé To (ToPade) e To calculado sem a aproximação (ToReal):\n",
        "\n",
        "figure()\n",
        "plot(t_plot, ToPade_plot,'-r')\n",
        "plot(t_plot2, ToReal_plot,'-b')\n",
        "ylabel('Comparação das temperaturas To (°C)')\n",
        "xlabel('Tempo (min)')\n",
        "grid()"
      ],
      "execution_count": 19,
      "outputs": [
        {
          "output_type": "display_data",
          "data": {
            "image/png": "[encoded data removed]",
            "text/plain": [
              "<Figure size 432x288 with 1 Axes>"
            ]
          },
          "metadata": {
            "tags": [],
            "needs_background": "light"
          }
        }
      ]
    }
  ]
}