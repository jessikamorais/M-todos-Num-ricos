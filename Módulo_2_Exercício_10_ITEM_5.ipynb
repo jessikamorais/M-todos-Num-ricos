{
  "nbformat": 4,
  "nbformat_minor": 0,
  "metadata": {
    "colab": {
      "name": "Módulo 2_Exercício 10_ITEM_5.ipynb",
      "provenance": [],
      "collapsed_sections": [],
      "include_colab_link": true
    },
    "kernelspec": {
      "name": "python3",
      "display_name": "Python 3"
    }
  },
  "cells": [
    {
      "cell_type": "markdown",
      "metadata": {
        "id": "view-in-github",
        "colab_type": "text"
      },
      "source": [
        "<a href=\"https://colab.research.google.com/github/jessikamorais/Metodos_Numericos/blob/main/M%C3%B3dulo_2_Exerc%C3%ADcio_10_ITEM_5.ipynb\" target=\"_parent\"><img src=\"https://colab.research.google.com/assets/colab-badge.svg\" alt=\"Open In Colab\"/></a>"
      ]
    },
    {
      "cell_type": "markdown",
      "metadata": {
        "id": "ZvJx-G4b-6gH"
      },
      "source": [
        "**RESOLUÇÃO DO ITEM 5.**"
      ]
    },
    {
      "cell_type": "markdown",
      "metadata": {
        "id": "OGhBPHkb_Y-n"
      },
      "source": [
        "**Resolução do exercício 10_Artigo**: \"*A Collection of 10 Numerical Problems in Chemical Engineering Solved by Various mathematical Software Packages*\".\n",
        "\n",
        "O problema consiste em um tanque agitado com aquecimento que opera de forma contínua e possui um contralador PI.\n",
        "\n",
        "As equações para modelagem do sistema e controle são apresentadas a seguir:\n",
        "\n",
        "____\n",
        "\n",
        "$\\frac{dT}{dt}=\\frac{WC_p(T_i-T) + q}{\\rho VC_{p}}$ ___ Equação A.40  \n",
        "_____\n",
        "\n",
        "$T_o(t) = t(T-\\tau_d)$ ___ Equação A.41\n",
        "\n",
        "____\n",
        "\n",
        "$\\frac{dT_o}{dt} = [T - T_o - (\\frac{\\tau _d}{2})(\\frac{dT}{dt})] \\frac{2}{\\tau _d}$ ___Equação A.42\n",
        "____\n",
        "\n",
        "$\\frac{dT_m}{dt}=\\frac{T_o-T_m}{\\tau_m}$ ___ Equação A.43\n",
        "\n",
        "____\n",
        "\n",
        "$q_{s}=WC_p(T_r - Tis)$ ___ Equação A.45\n",
        "\n",
        "____\n",
        "\n",
        "$\\frac{d}{dT}(errsum)= T_r - T_m $ ___ Equação A.46\n",
        "\n",
        "____\n",
        "\n",
        "$q = Q_s + K_c(T_r - T-m) + \\frac{K_c}{\\tau _I}(errsum)$ ___ Equação A.47\n",
        "\n",
        "____\n",
        "\n",
        "**Item 5**. No item 5, é necessário calcular o fluxo de calor limite (qlim) cedido ao sistema. Neste caso, o fluxo calor limite irá variar entre 0 kJ/min e 26.000 kJ/min com base no fluxo de calor (q). Estes valores são apresentados na Figura 3. As temperaturas também são aprentadas para o sistema nas Figuras 1 e 2, considerando que a temperatura Tr (set-point) altera de 80°C para 90°C decorrido 10 minutos de operação do sistema."
      ]
    },
    {
      "cell_type": "code",
      "metadata": {
        "id": "1FqdWwVtCeSu"
      },
      "source": [
        "#Importando as bibliotcas necessárias\n",
        "import numpy as np\n",
        "import matplotlib.pyplot as plt\n",
        "import pandas as pd\n",
        "from scipy.integrate import odeint\n",
        "from pylab import *"
      ],
      "execution_count": 1,
      "outputs": []
    },
    {
      "cell_type": "code",
      "metadata": {
        "id": "jAaQ9UiAJGUS",
        "colab": {
          "base_uri": "https://localhost:8080/"
        },
        "outputId": "efe8d7fe-4f3e-45e6-9c15-3fc6131751b4"
      },
      "source": [
        "#Importando a pasta do github que será utilizada:\n",
        "!git clone https://github.com/jessikamorais/Metodos_Numericos #clonar do Github\n",
        "%cd Metodos_Numericos"
      ],
      "execution_count": 2,
      "outputs": [
        {
          "output_type": "stream",
          "text": [
            "fatal: destination path 'Metodos_Numericos' already exists and is not an empty directory.\n",
            "/content/Metodos_Numericos\n"
          ],
          "name": "stdout"
        }
      ]
    },
    {
      "cell_type": "code",
      "metadata": {
        "id": "6ln1rA4oCXkI"
      },
      "source": [
        "#Definindo as variáveis necessárias:\n",
        "\n",
        "termo1 = 4000.0 #ro*V*Cp [kJ/°C]\n",
        "Tis = 60 #Constante de tempo integral [°C]\n",
        "TauD = 1 #Tempo morto, tempo que o sistema demora para atingir a T de Set point[min]\n",
        "Kc = 5000 #Ganho proporcional [kJ/min °C]\n",
        "termo2 = 500 # W*Cp [kJ/min °C] \n",
        "Tr = 80 #[°C] #Temperatura do SetPoint\n",
        "TauM = 5 #[min] #Constante de tempo do termopar\n",
        "TauI = 2 #[min]\n",
        "t_plot = []\n",
        "q_plot = []\n",
        "qlim_plot = []\n",
        "T_plot = []\n",
        "ToPade_plot = []\n",
        "Tm_plot = []\n",
        "\n",
        "#Tm = #Temperatura lida no termopar [°C]\n",
        "#To = #Temperatura de saída do tanque ou temperatura que entra no termopar\n",
        "#Ti = #Temperatura de entrada\n",
        "#Tis = #Temperatura de projeto de estado estacionário\n",
        "\n",
        "#Condição inicial do sistema (t= 0 min):\n",
        "T0 = Tr\n",
        "To0Pade = Tr\n",
        "Tm0 = Tr\n",
        "derrsum0 = 0.0\n",
        "Ti = 60.0"
      ],
      "execution_count": 3,
      "outputs": []
    },
    {
      "cell_type": "code",
      "metadata": {
        "id": "c0mRUM9JJaY5"
      },
      "source": [
        "def model(Resp, t):\n",
        "\n",
        "# Alterando o valor do SetPoint (Tr) com relação ao tempo:\n",
        "  if t < 10.0:\n",
        "    Tr = 80.0\n",
        "  elif t >= 10.0:\n",
        "    Tr = 90.0\n",
        "\n",
        "  # Definindo as equações utilizadas:\n",
        "  T, ToPade, Tm, derrsum  = Resp[0], Resp[1], Resp[2], Resp[3]\n",
        "  To = T*(t - TauD) #Expressão para o tempo morto\n",
        "  qs = termo2*(Tr-Ti) #Calor necessário para atingir o Set Point\n",
        "  q = qs + Kc*(Tr-Tm) + (Kc/TauI)*derrsum #Calor que entra no tanque\n",
        "\n",
        "  # Definindo os limites para o cálculo de qlim:\n",
        "\n",
        "  if q < 0:\n",
        "    qlim = 0\n",
        "  elif q > 26000.0:\n",
        "    qlim = 26000.0\n",
        "  else:\n",
        "    qlim = q\n",
        "\n",
        "  # Definindo as Equações Diferenciais utilizadas:\n",
        "  dT  = (termo2/(Ti-T)+q)/(termo1)\n",
        "  dToPade = ((T - ToPade) - (TauD/2)*(dT))/(2/TauD) #Calculo para o efeito do tempo morto (aproximação de Padé)\n",
        "  dTm = ((ToPade - Tm)/TauM) #Modelagem do termopar\n",
        "  derrsum = (Tr - Tm) #Nova variável para calcular a integral de q\n",
        "\n",
        "  #Capturando os valores para a construção de gráficos:\n",
        "  t_plot.append(t)\n",
        "  q_plot.append(q)\n",
        "  qlim_plot.append(qlim)\n",
        "  T_plot.append(T)\n",
        "  ToPade_plot.append(ToPade)\n",
        "  Tm_plot.append(Tm)\n",
        "\n",
        "  \n",
        "  return [dT, dToPade, dTm, derrsum]"
      ],
      "execution_count": 4,
      "outputs": []
    },
    {
      "cell_type": "code",
      "metadata": {
        "id": "3rHlOmLfF27n"
      },
      "source": [
        "#Importando a função de Runge Kutta de ordem 4:\n",
        "from rk4_sys import rk4"
      ],
      "execution_count": 5,
      "outputs": []
    },
    {
      "cell_type": "code",
      "metadata": {
        "id": "tvYW-I5Hdmll"
      },
      "source": [
        "# Resolvendo pelo Método de Runge Kutta de ordem 4:\n",
        "\n",
        "t0 = 0.0\n",
        "x0 = [T0, To0Pade, Tm0, derrsum0] \n",
        "tf = 1000.0\n",
        "\n",
        "t, x = rk4( model, t0, tf,x0)\n"
      ],
      "execution_count": 6,
      "outputs": []
    },
    {
      "cell_type": "markdown",
      "metadata": {
        "id": "-XS_4Q2lMLvb"
      },
      "source": [
        "**Plotando os gráficos das temperaturas  T ,  To  e  Tm  em função do tempo.** *Figura 1*         \n",
        "   "
      ]
    },
    {
      "cell_type": "code",
      "metadata": {
        "id": "DaXaVbP0efGh",
        "colab": {
          "base_uri": "https://localhost:8080/",
          "height": 764
        },
        "outputId": "0ab51ce1-bc69-465f-bd21-1f63b61ed192"
      },
      "source": [
        "# Plotando os gráficos de temperatura com relação ao tempo:\n",
        "\n",
        "fig, axs = plt.subplots(3)\n",
        "\n",
        "#Plotando o gráfico de T em relação ao tempo:\n",
        "axs[0].plot(t, x[:, 0], 'r')\n",
        "axs[0].set(xlabel='t', ylabel='Temperatura T')\n",
        "\n",
        "#Plotando o gráfico de To em relação ao tempo:\n",
        "axs[1].plot(t, x[:, 1], 'b')\n",
        "axs[1].set(xlabel='t', ylabel=\"Temperatura To Aproximação de Pade\")\n",
        "\n",
        "#Plotando o gráfico de Tm em relação ao tempo:\n",
        "axs[2].plot(t, x[:, 2], 'y')\n",
        "axs[2].set(xlabel='t', ylabel=\"Temperatura Tm\")\n",
        "\n",
        "#Ajustando o tamanho dos gráficos\n",
        "plt.subplots_adjust(left=0.125,\n",
        "                    bottom=0.1, \n",
        "                    right=3, \n",
        "                    top=2.5, \n",
        "                    wspace=0.8, \n",
        "                    hspace=0.20)\n",
        "plt.show()\n"
      ],
      "execution_count": 7,
      "outputs": [
        {
          "output_type": "display_data",
          "data": {
            "image/png": "[encoded data removed]",
            "text/plain": [
              "<Figure size 432x288 with 3 Axes>"
            ]
          },
          "metadata": {
            "tags": [],
            "needs_background": "light"
          }
        }
      ]
    },
    {
      "cell_type": "markdown",
      "metadata": {
        "id": "S0Jat5rqMJHI"
      },
      "source": [
        "**Plotando um único gráfico para a comparação das temperaturas  T ,  To  e  Tm  em função do tempo.** *Figura 2*         \n",
        "\n"
      ]
    },
    {
      "cell_type": "code",
      "metadata": {
        "colab": {
          "base_uri": "https://localhost:8080/",
          "height": 290
        },
        "id": "vOn2djhd3zsJ",
        "outputId": "80398e78-da8a-4d13-a5b1-592d331810d3"
      },
      "source": [
        "# Plotando o gráfico de temperaturas (T, ToPade, Tm) com relação ao tempo:\n",
        "figure()\n",
        "plot(t_plot, T_plot,'-r',t_plot, ToPade_plot,'-b',t_plot, Tm_plot,'-y')\n",
        "ylabel('Temperaturas (°C)')\n",
        "xlabel('Tempo (min)')\n",
        "grid()"
      ],
      "execution_count": 8,
      "outputs": [
        {
          "output_type": "display_data",
          "data": {
            "image/png": "[encoded data removed]",
            "text/plain": [
              "<Figure size 432x288 with 1 Axes>"
            ]
          },
          "metadata": {
            "tags": [],
            "needs_background": "light"
          }
        }
      ]
    },
    {
      "cell_type": "markdown",
      "metadata": {
        "id": "WvySXC7Oj5dC"
      },
      "source": [
        "**Plotando um único gráfico para a comparação dos fluxos de calro q e qlim em função do tempo.** *Figura 3*         \n",
        "\n"
      ]
    },
    {
      "cell_type": "code",
      "metadata": {
        "colab": {
          "base_uri": "https://localhost:8080/",
          "height": 290
        },
        "id": "lwa_S1CF2Ldc",
        "outputId": "16ad4832-26e1-414f-c3a6-d26ae70cd6df"
      },
      "source": [
        "figure()\n",
        "plot(t_plot, q_plot,'-b', t_plot, qlim_plot,'--r')\n",
        "ylabel('Calor cedido ao sistema (kJ/min)')\n",
        "xlabel('Tempo (min)')\n",
        "grid ()"
      ],
      "execution_count": 9,
      "outputs": [
        {
          "output_type": "display_data",
          "data": {
            "image/png": "[encoded data removed]",
            "text/plain": [
              "<Figure size 432x288 with 1 Axes>"
            ]
          },
          "metadata": {
            "tags": [],
            "needs_background": "light"
          }
        }
      ]
    }
  ]
}