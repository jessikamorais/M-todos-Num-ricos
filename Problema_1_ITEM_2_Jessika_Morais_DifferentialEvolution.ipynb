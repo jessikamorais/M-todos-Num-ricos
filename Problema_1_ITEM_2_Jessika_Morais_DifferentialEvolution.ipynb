{
  "nbformat": 4,
  "nbformat_minor": 0,
  "metadata": {
    "colab": {
      "name": "Problema 1_ITEM 2_Jessika_Morais_DifferentialEvolution.ipynb",
      "provenance": [],
      "collapsed_sections": [],
      "include_colab_link": true
    },
    "kernelspec": {
      "name": "python3",
      "display_name": "Python 3"
    }
  },
  "cells": [
    {
      "cell_type": "markdown",
      "metadata": {
        "id": "view-in-github",
        "colab_type": "text"
      },
      "source": [
        "<a href=\"https://colab.research.google.com/github/jessikamorais/Metodos_Numericos/blob/main/Problema_1_ITEM_2_Jessika_Morais_DifferentialEvolution.ipynb\" target=\"_parent\"><img src=\"https://colab.research.google.com/assets/colab-badge.svg\" alt=\"Open In Colab\"/></a>"
      ]
    },
    {
      "cell_type": "code",
      "metadata": {
        "id": "umSCNaeuX7US"
      },
      "source": [
        "\n",
        "################################################################################\n",
        "# Disciplina: Métodos Numéricos__ Aluna: Jéssika Nayara S. Morais              #\n",
        "# Resolução do Problema 1 -Cálculo do volume molar e do fator de compressibi-  #\n",
        "#-lidade com a equação de van der Waals                                        #\n",
        "# Resposta para o ITEM 2                                                       #\n",
        "################################################################################"
      ],
      "execution_count": null,
      "outputs": []
    },
    {
      "cell_type": "code",
      "metadata": {
        "id": "tLgv4gDnCbX1"
      },
      "source": [
        "import numpy  as np\n",
        "from scipy.optimize import differential_evolution\n",
        "import pandas as pd"
      ],
      "execution_count": 1,
      "outputs": []
    },
    {
      "cell_type": "code",
      "metadata": {
        "id": "3NJpcUoRtCOm"
      },
      "source": [
        "#Código para o item 2\n",
        "\n",
        "Pcalc = []\n",
        "P = []\n",
        "T = 450\n",
        "R = 0.08206\n",
        "Tc = 405.5\n",
        "Pr = [1, 2, 4, 10, 20]\n",
        "Pc = 111.3\n",
        "a = (27/64)*(((R**2)*(Tc**2))/Pc)\n",
        "b = (R*Tc)/(8*Pc)\n",
        "\n",
        "\n",
        "# No caso do item 2, os valores de P variam devido aos diferentes valores de Pr.\n",
        "Num = len(Pr)\n",
        "for i in range (Num):\n",
        "  Pre = Pr[i]\n",
        "  Pcalc = Pre*Pc\n",
        "  P.append(Pcalc)\n",
        "\n",
        "\n",
        "\n",
        "def FUNCTION(x):\n",
        "  Num = len(P)\n",
        "  List = []\n",
        "  for i in range (Num):\n",
        "    F = (P[i] + (a/x[0]**2))*(x[0]-b)-(R*T)\n",
        "    \n",
        "    List.append(abs(F))\n",
        "  \n",
        "  Max = np.max(np.array(List))\n",
        "\n",
        "  return Max\n"
      ],
      "execution_count": 2,
      "outputs": []
    },
    {
      "cell_type": "code",
      "metadata": {
        "id": "iTMNYSBfL5Gz"
      },
      "source": [
        "bounds = [(-500,500)]\n",
        "Resultado = differential_evolution(FUNCTION, bounds,maxiter=2000, popsize= 50)"
      ],
      "execution_count": 3,
      "outputs": []
    },
    {
      "cell_type": "code",
      "metadata": {
        "colab": {
          "base_uri": "https://localhost:8080/",
          "height": 279
        },
        "id": "40ciIcpYVKAE",
        "outputId": "ea87072e-37ab-4819-b28d-7987c74023d3"
      },
      "source": [
        "# Respotas\n",
        "\n",
        "print('Valores calculados para a Pressão (P) em função dos valores da pressão reduzida (Pr:')\n",
        "print(P)\n",
        "\n",
        "print('__________')\n",
        "\n",
        "print('Valores calculados para o volume (V) em função dos valores da pressão (P)')\n",
        "V2 =[]\n",
        "V2.append(Resultado.x)\n",
        "\n",
        "Num = 5\n",
        "\n",
        "Nomes = ['V1 = ', 'V2 = ', 'V3 = ', 'V4 = ', 'V5 =']\n",
        "\n",
        "for k in range(Num):\n",
        "  print ('Volume', Nomes[k], V2[k])"
      ],
      "execution_count": 7,
      "outputs": [
        {
          "output_type": "stream",
          "text": [
            "Valores calculados para a Pressão (P) em função dos valores da pressão reduzida (Pr:\n",
            "[111.3, 222.6, 445.2, 1113.0, 2226.0]\n",
            "__________\n",
            "Valores calculados para o volume (V) em função dos valores da pressão (P)\n",
            "Volume V1 =  [0.05048877]\n"
          ],
          "name": "stdout"
        },
        {
          "output_type": "error",
          "ename": "IndexError",
          "evalue": "ignored",
          "traceback": [
            "\u001b[0;31m---------------------------------------------------------------------------\u001b[0m",
            "\u001b[0;31mIndexError\u001b[0m                                Traceback (most recent call last)",
            "\u001b[0;32m<ipython-input-7-414aa008eb7e>\u001b[0m in \u001b[0;36m<module>\u001b[0;34m()\u001b[0m\n\u001b[1;32m     15\u001b[0m \u001b[0;34m\u001b[0m\u001b[0m\n\u001b[1;32m     16\u001b[0m \u001b[0;32mfor\u001b[0m \u001b[0mk\u001b[0m \u001b[0;32min\u001b[0m \u001b[0mrange\u001b[0m\u001b[0;34m(\u001b[0m\u001b[0mNum\u001b[0m\u001b[0;34m)\u001b[0m\u001b[0;34m:\u001b[0m\u001b[0;34m\u001b[0m\u001b[0;34m\u001b[0m\u001b[0m\n\u001b[0;32m---> 17\u001b[0;31m   \u001b[0mprint\u001b[0m \u001b[0;34m(\u001b[0m\u001b[0;34m'Volume'\u001b[0m\u001b[0;34m,\u001b[0m \u001b[0mNomes\u001b[0m\u001b[0;34m[\u001b[0m\u001b[0mk\u001b[0m\u001b[0;34m]\u001b[0m\u001b[0;34m,\u001b[0m \u001b[0mV2\u001b[0m\u001b[0;34m[\u001b[0m\u001b[0mk\u001b[0m\u001b[0;34m]\u001b[0m\u001b[0;34m)\u001b[0m\u001b[0;34m\u001b[0m\u001b[0;34m\u001b[0m\u001b[0m\n\u001b[0m",
            "\u001b[0;31mIndexError\u001b[0m: list index out of range"
          ]
        }
      ]
    }
  ]
}