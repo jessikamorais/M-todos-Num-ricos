{
  "nbformat": 4,
  "nbformat_minor": 0,
  "metadata": {
    "colab": {
      "name": "Problema 05_ITEM 2_Jessika_Morais_DifferentialEvolution.ipynb",
      "provenance": [],
      "collapsed_sections": [],
      "include_colab_link": true
    },
    "kernelspec": {
      "name": "python3",
      "display_name": "Python 3"
    }
  },
  "cells": [
    {
      "cell_type": "markdown",
      "metadata": {
        "id": "view-in-github",
        "colab_type": "text"
      },
      "source": [
        "<a href=\"https://colab.research.google.com/github/jessikamorais/Metodos_Numericos/blob/main/Problema_05_ITEM_2_Jessika_Morais_DifferentialEvolution.ipynb\" target=\"_parent\"><img src=\"https://colab.research.google.com/assets/colab-badge.svg\" alt=\"Open In Colab\"/></a>"
      ]
    },
    {
      "cell_type": "code",
      "metadata": {
        "id": "3ATUWFgJQXH8"
      },
      "source": [
        "################################################################################\n",
        "# Disciplina: Métodos Numéricos__ Aluna: Jéssika Nayara S. Morais              #\n",
        "# Resolução do Problema 5. Cálculo da Velocidade Terminal de Partículas Sólidas#\n",
        "# Resposta para o ITEM 2 - Velocidade com valor de 0.01578176 m/s              #\n",
        "################################################################################"
      ],
      "execution_count": 1,
      "outputs": []
    },
    {
      "cell_type": "code",
      "metadata": {
        "id": "tLgv4gDnCbX1"
      },
      "source": [
        "import numpy  as np\n",
        "from scipy.optimize import differential_evolution"
      ],
      "execution_count": 2,
      "outputs": []
    },
    {
      "cell_type": "code",
      "metadata": {
        "id": "AZJmGeqra0j2"
      },
      "source": [
        "# NESTE ITEM, O VALOR DE g É MODIFICADO CONFORME ENUNCIADO.\n",
        "# Declaração das variáveis (Código para o item 2):\n",
        "rop = 1800\n",
        "ro = 994.6\n",
        "Dp = 0.000208\n",
        "mi = 0.0008931\n",
        "g = 9.80665\n",
        "g1 = 30*g  # Alteração do valor  da aceleração conforme o enunciado\n",
        "\n",
        "# Condições para o cálculo de coeficiente de arraste (Cd) em função de Reynolds (Re)\n",
        "\n",
        "def obter_cd(Re):\n",
        "  if Re < 0.1:\n",
        "    return 24/Re\n",
        "  elif (Re >= 0.1 and Re <= 1000):\n",
        "    return (24/Re)*(1+ (0.14*(Re**0.7)))\n",
        "  elif (Re > 1000 and Re <= 350000):\n",
        "    return 0.44\n",
        "  elif (Re > 350000):\n",
        "    return (0.19 - 80000)/Re\n",
        "\n",
        "# Declaração das funções para o cálculo da velocidade terminal (x[0]) e\n",
        "# número de Reynolds (x[1])\n",
        "def FUNCTION(x):\n",
        "  Cd = obter_cd(x[1])\n",
        "  F =np.zeros(2)\n",
        "  F[0] = (((4*g1*(rop-ro)*Dp))/(3*Cd*ro)) - (x[0]**2)\n",
        "  F[1] = ((Dp*x[0]*ro)/mi) -  x[1]\n",
        "   \n",
        "  Num = len(F)\n",
        "  List = []\n",
        "  \n",
        "  for i in F:\n",
        "    List.append(abs(i))\n",
        "  \n",
        "  Max = np.max(np.array(List))\n",
        "\n",
        "  return Max\n"
      ],
      "execution_count": 3,
      "outputs": []
    },
    {
      "cell_type": "code",
      "metadata": {
        "id": "XIC-e0jsJRVQ"
      },
      "source": [
        "# A resposta foi obtida  utilizando o método \"Differential Evolution\":\n",
        "bounds = [(-1,100), (-1,350000)]\n",
        "Resultado = differential_evolution(FUNCTION, bounds,maxiter=50, popsize= 500)"
      ],
      "execution_count": 4,
      "outputs": []
    },
    {
      "cell_type": "code",
      "metadata": {
        "id": "9vlafSt5LErN",
        "colab": {
          "base_uri": "https://localhost:8080/"
        },
        "outputId": "40c35c69-06c7-487d-f039-ffb0eddc0de6"
      },
      "source": [
        "print('Verificando o zero da função para o item 2 = ',Resultado.fun)"
      ],
      "execution_count": 5,
      "outputs": [
        {
          "output_type": "stream",
          "text": [
            "Verificando o zero da função para o item 2 =  0.0002930294682848347\n"
          ],
          "name": "stdout"
        }
      ]
    },
    {
      "cell_type": "code",
      "metadata": {
        "id": "-QU_kPNWVPYU",
        "colab": {
          "base_uri": "https://localhost:8080/"
        },
        "outputId": "fe521158-3658-4fbe-a441-278714d91c9c"
      },
      "source": [
        "# Reposta - Item 2:\n",
        "\n",
        "print('Valor da velocidade terminal [m/s] e de Reynolds [Re] = ', Resultado.x)"
      ],
      "execution_count": 6,
      "outputs": [
        {
          "output_type": "stream",
          "text": [
            "Valor da velocidade terminal [m/s] e de Reynolds [Re] =  [ 0.20698273 47.94514238]\n"
          ],
          "name": "stdout"
        }
      ]
    }
  ]
}