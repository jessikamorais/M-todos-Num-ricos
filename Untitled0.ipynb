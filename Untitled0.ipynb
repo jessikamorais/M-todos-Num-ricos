{
  "nbformat": 4,
  "nbformat_minor": 0,
  "metadata": {
    "colab": {
      "name": "Untitled0.ipynb",
      "provenance": [],
      "collapsed_sections": [],
      "authorship_tag": "ABX9TyP4yfTOx5l/ZRGij5tAlD8N",
      "include_colab_link": true
    },
    "kernelspec": {
      "name": "python3",
      "display_name": "Python 3"
    },
    "language_info": {
      "name": "python"
    }
  },
  "cells": [
    {
      "cell_type": "markdown",
      "metadata": {
        "id": "view-in-github",
        "colab_type": "text"
      },
      "source": [
        "<a href=\"https://colab.research.google.com/github/jessikamorais/M-todos-Num-ricos/blob/main/Untitled0.ipynb\" target=\"_parent\"><img src=\"https://colab.research.google.com/assets/colab-badge.svg\" alt=\"Open In Colab\"/></a>"
      ]
    },
    {
      "cell_type": "code",
      "metadata": {
        "colab": {
          "base_uri": "https://localhost:8080/"
        },
        "id": "_qmzm-5SBsoN",
        "outputId": "8c3f50a3-6ff4-44ff-bd31-b25fe503fc55"
      },
      "source": [
        "mM=30\n",
        "xm=0.7\n",
        "valor_M = mM* xm\n",
        "print('valor_M separado', valor_M)\n",
        "\n"
      ],
      "execution_count": null,
      "outputs": [
        {
          "output_type": "stream",
          "text": [
            "valor_M separado 21.0\n"
          ],
          "name": "stdout"
        }
      ]
    },
    {
      "cell_type": "code",
      "metadata": {
        "colab": {
          "base_uri": "https://localhost:8080/"
        },
        "id": "jYIUKGNsCQ1i",
        "outputId": "0307c22f-b346-48db-dadc-a2a4e61822d5"
      },
      "source": [
        "Quantidades = [30,25,10]\n",
        "Recupera = [0.70,0.80,0.90]\n",
        "Num = 3\n",
        "for i in range(Num):\n",
        "  valor_separado = Quantidades[i]*Recupera[i]\n",
        "  print('valor reparado', valor_separado)\n"
      ],
      "execution_count": null,
      "outputs": [
        {
          "output_type": "stream",
          "text": [
            "valor reparado 21.0\n",
            "valor reparado 20.0\n",
            "valor reparado 9.0\n"
          ],
          "name": "stdout"
        }
      ]
    },
    {
      "cell_type": "code",
      "metadata": {
        "colab": {
          "base_uri": "https://localhost:8080/"
        },
        "id": "eZt7HeP2F639",
        "outputId": "9734e6b8-95db-496c-b642-dc722c11f9c6"
      },
      "source": [
        "Quantidades = [30,25,10]\n",
        "Recupera = [0.70,0.80,0.90]\n",
        "Resposta = [ ]\n",
        "Num = len(Quantidades)\n",
        "for i in range(Num):\n",
        "  valor_separado = Quantidades[i]*Recupera[i]\n",
        "  Resposta.append(valor_separado)\n",
        "print(Resposta)"
      ],
      "execution_count": null,
      "outputs": [
        {
          "output_type": "stream",
          "text": [
            "[21.0, 20.0, 9.0]\n"
          ],
          "name": "stdout"
        }
      ]
    },
    {
      "cell_type": "code",
      "metadata": {
        "colab": {
          "base_uri": "https://localhost:8080/"
        },
        "id": "NikbaAzwHFns",
        "outputId": "20d512f4-cdf1-495b-c481-97097daa7f9a"
      },
      "source": [
        "Quantidades = [30,25,10]\n",
        "Recupera = [0.70,0.80,0.90]\n",
        "Nomes = ['M','E','P']\n",
        "Resposta = [ ]\n",
        "Num = len(Quantidades)\n",
        "for i in range(Num):\n",
        "  valor_separado = Quantidades[i]*Recupera[i]\n",
        "  Resposta.append(valor_separado)\n",
        "\n",
        "for k in range(Num):\n",
        "  print('componente',Nomes[k], Resposta[k])"
      ],
      "execution_count": null,
      "outputs": [
        {
          "output_type": "stream",
          "text": [
            "componente M 21.0\n",
            "componente E 20.0\n",
            "componente P 9.0\n"
          ],
          "name": "stdout"
        }
      ]
    },
    {
      "cell_type": "code",
      "metadata": {
        "colab": {
          "base_uri": "https://localhost:8080/"
        },
        "id": "ffmec2lRIJdS",
        "outputId": "9c360ad7-0be6-466f-b454-e29e207a9a39"
      },
      "source": [
        "import pandas as pd\n",
        "df = pd.DataFrame({'Nome': Nomes, 'Quant':Quantidades, 'Recupera %':Recupera, 'Recuperado':Resposta})\n",
        "print(df)"
      ],
      "execution_count": null,
      "outputs": [
        {
          "output_type": "stream",
          "text": [
            "  Nome  Quant  Recupera %  Recuperado\n",
            "0    M     30         0.7        21.0\n",
            "1    E     25         0.8        20.0\n",
            "2    P     10         0.9         9.0\n"
          ],
          "name": "stdout"
        }
      ]
    },
    {
      "cell_type": "code",
      "metadata": {
        "colab": {
          "base_uri": "https://localhost:8080/"
        },
        "id": "MX6s9cn9KAow",
        "outputId": "f7675987-5777-431e-a22b-729b926fa6a3"
      },
      "source": [
        "import numpy as np\n",
        "Quant = np.array([30,25,10])\n",
        "Recup = np.array([0.70,0.80,0.90])\n",
        "Resp = Quant*Recup\n",
        "print(Resp)\n"
      ],
      "execution_count": null,
      "outputs": [
        {
          "output_type": "stream",
          "text": [
            "[21. 20.  9.]\n"
          ],
          "name": "stdout"
        }
      ]
    },
    {
      "cell_type": "code",
      "metadata": {
        "colab": {
          "base_uri": "https://localhost:8080/"
        },
        "id": "Ayi2hXCCNK8m",
        "outputId": "49d57447-063b-4122-c87c-9fd3e2f3f0f8"
      },
      "source": [
        "A = np.array([[0.9, 0.3, 0.1],[0.1,0.5,0.2],[0.0,0.2,0.7]])\n",
        "b = np.array([30.0,25.0,10.0])\n",
        "print(A)"
      ],
      "execution_count": null,
      "outputs": [
        {
          "output_type": "stream",
          "text": [
            "[[0.9 0.3 0.1]\n",
            " [0.1 0.5 0.2]\n",
            " [0.  0.2 0.7]]\n",
            "[30. 25. 10.]\n"
          ],
          "name": "stdout"
        }
      ]
    },
    {
      "cell_type": "code",
      "metadata": {
        "colab": {
          "base_uri": "https://localhost:8080/"
        },
        "id": "DUohzWVmO_tI",
        "outputId": "44a58fd7-1b9e-40e4-c794-75b2d034c3bc"
      },
      "source": [
        "print(b)"
      ],
      "execution_count": null,
      "outputs": [
        {
          "output_type": "stream",
          "text": [
            "[30. 25. 10.]\n"
          ],
          "name": "stdout"
        }
      ]
    },
    {
      "cell_type": "code",
      "metadata": {
        "colab": {
          "base_uri": "https://localhost:8080/"
        },
        "id": "9v0VUMipPGiY",
        "outputId": "6501ca52-b318-4202-900b-76141e977160"
      },
      "source": [
        "print(A[0,1])"
      ],
      "execution_count": null,
      "outputs": [
        {
          "output_type": "stream",
          "text": [
            "0.3\n"
          ],
          "name": "stdout"
        }
      ]
    },
    {
      "cell_type": "code",
      "metadata": {
        "colab": {
          "base_uri": "https://localhost:8080/"
        },
        "id": "4y62_wIyPmKr",
        "outputId": "a98d159c-7cb5-4ab3-f1b0-4742d044ffda"
      },
      "source": [
        "print(A[:,0])"
      ],
      "execution_count": null,
      "outputs": [
        {
          "output_type": "stream",
          "text": [
            "[0.9 0.1 0. ]\n"
          ],
          "name": "stdout"
        }
      ]
    },
    {
      "cell_type": "code",
      "metadata": {
        "colab": {
          "base_uri": "https://localhost:8080/"
        },
        "id": "1JsMFzP_P9n5",
        "outputId": "7f1c1b41-f02e-45ea-8273-8c75410dccef"
      },
      "source": [
        "print(A[:,:-1])"
      ],
      "execution_count": null,
      "outputs": [
        {
          "output_type": "stream",
          "text": [
            "[[0.9 0.3]\n",
            " [0.1 0.5]\n",
            " [0.  0.2]]\n"
          ],
          "name": "stdout"
        }
      ]
    },
    {
      "cell_type": "code",
      "metadata": {
        "colab": {
          "base_uri": "https://localhost:8080/"
        },
        "id": "A1B3H40vQ1tn",
        "outputId": "fb2454dc-cdf7-4598-8ca6-2062e0f9d27e"
      },
      "source": [
        "M = np.zeros((3,4))\n",
        "M[:,:-1]=A\n",
        "M[:,3]=b\n",
        "print(M)"
      ],
      "execution_count": null,
      "outputs": [
        {
          "output_type": "stream",
          "text": [
            "[[ 0.9  0.3  0.1 30. ]\n",
            " [ 0.1  0.5  0.2 25. ]\n",
            " [ 0.   0.2  0.7 10. ]]\n"
          ],
          "name": "stdout"
        }
      ]
    }
  ]
}